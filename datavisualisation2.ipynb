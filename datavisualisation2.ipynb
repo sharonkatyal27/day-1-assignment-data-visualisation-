{
 "cells": [
  {
   "cell_type": "code",
   "execution_count": 1,
   "metadata": {},
   "outputs": [],
   "source": [
    "import pandas as ps\n",
    "import numpy as np\n",
    "import seaborn as sn\n",
    "import matplotlib as mp\n",
    "import matplotlib.pyplot as plt\n",
    "%matplotlib inline\n",
    "from numpy.random import randn, randint, uniform, sample"
   ]
  },
  {
   "cell_type": "code",
   "execution_count": 2,
   "metadata": {},
   "outputs": [
    {
     "data": {
      "text/html": [
       "<div>\n",
       "<style scoped>\n",
       "    .dataframe tbody tr th:only-of-type {\n",
       "        vertical-align: middle;\n",
       "    }\n",
       "\n",
       "    .dataframe tbody tr th {\n",
       "        vertical-align: top;\n",
       "    }\n",
       "\n",
       "    .dataframe thead th {\n",
       "        text-align: right;\n",
       "    }\n",
       "</style>\n",
       "<table border=\"1\" class=\"dataframe\">\n",
       "  <thead>\n",
       "    <tr style=\"text-align: right;\">\n",
       "      <th></th>\n",
       "      <th>a</th>\n",
       "      <th>b</th>\n",
       "      <th>c</th>\n",
       "      <th>d</th>\n",
       "    </tr>\n",
       "  </thead>\n",
       "  <tbody>\n",
       "    <tr>\n",
       "      <th>0</th>\n",
       "      <td>-0.191471</td>\n",
       "      <td>-0.461797</td>\n",
       "      <td>0.886873</td>\n",
       "      <td>-0.820903</td>\n",
       "    </tr>\n",
       "    <tr>\n",
       "      <th>1</th>\n",
       "      <td>0.902325</td>\n",
       "      <td>1.432658</td>\n",
       "      <td>0.626501</td>\n",
       "      <td>-0.290750</td>\n",
       "    </tr>\n",
       "    <tr>\n",
       "      <th>2</th>\n",
       "      <td>0.922236</td>\n",
       "      <td>-2.336543</td>\n",
       "      <td>-2.406694</td>\n",
       "      <td>-0.637342</td>\n",
       "    </tr>\n",
       "    <tr>\n",
       "      <th>3</th>\n",
       "      <td>0.004153</td>\n",
       "      <td>0.815051</td>\n",
       "      <td>1.939220</td>\n",
       "      <td>-0.965041</td>\n",
       "    </tr>\n",
       "    <tr>\n",
       "      <th>4</th>\n",
       "      <td>-0.035069</td>\n",
       "      <td>-1.399560</td>\n",
       "      <td>1.457933</td>\n",
       "      <td>1.427865</td>\n",
       "    </tr>\n",
       "    <tr>\n",
       "      <th>5</th>\n",
       "      <td>-0.135276</td>\n",
       "      <td>0.665632</td>\n",
       "      <td>-0.154177</td>\n",
       "      <td>1.045924</td>\n",
       "    </tr>\n",
       "    <tr>\n",
       "      <th>6</th>\n",
       "      <td>-0.602017</td>\n",
       "      <td>-0.767296</td>\n",
       "      <td>0.141568</td>\n",
       "      <td>-1.020560</td>\n",
       "    </tr>\n",
       "    <tr>\n",
       "      <th>7</th>\n",
       "      <td>0.375804</td>\n",
       "      <td>1.417438</td>\n",
       "      <td>-0.293829</td>\n",
       "      <td>-1.001319</td>\n",
       "    </tr>\n",
       "    <tr>\n",
       "      <th>8</th>\n",
       "      <td>-3.263219</td>\n",
       "      <td>0.109923</td>\n",
       "      <td>-1.019170</td>\n",
       "      <td>1.398043</td>\n",
       "    </tr>\n",
       "    <tr>\n",
       "      <th>9</th>\n",
       "      <td>1.115082</td>\n",
       "      <td>0.328878</td>\n",
       "      <td>-1.244176</td>\n",
       "      <td>1.037875</td>\n",
       "    </tr>\n",
       "  </tbody>\n",
       "</table>\n",
       "</div>"
      ],
      "text/plain": [
       "          a         b         c         d\n",
       "0 -0.191471 -0.461797  0.886873 -0.820903\n",
       "1  0.902325  1.432658  0.626501 -0.290750\n",
       "2  0.922236 -2.336543 -2.406694 -0.637342\n",
       "3  0.004153  0.815051  1.939220 -0.965041\n",
       "4 -0.035069 -1.399560  1.457933  1.427865\n",
       "5 -0.135276  0.665632 -0.154177  1.045924\n",
       "6 -0.602017 -0.767296  0.141568 -1.020560\n",
       "7  0.375804  1.417438 -0.293829 -1.001319\n",
       "8 -3.263219  0.109923 -1.019170  1.398043\n",
       "9  1.115082  0.328878 -1.244176  1.037875"
      ]
     },
     "execution_count": 2,
     "metadata": {},
     "output_type": "execute_result"
    }
   ],
   "source": [
    "df=ps.DataFrame(randn(10,4),columns=['a','b','c','d'])\n",
    "df"
   ]
  },
  {
   "cell_type": "code",
   "execution_count": 4,
   "metadata": {},
   "outputs": [
    {
     "data": {
      "text/plain": [
       "<matplotlib.axes._subplots.AxesSubplot at 0x253658c98e0>"
      ]
     },
     "execution_count": 4,
     "metadata": {},
     "output_type": "execute_result"
    },
    {
     "data": {
      "image/png": "[encoded data removed]",
      "text/plain": [
       "<Figure size 432x288 with 1 Axes>"
      ]
     },
     "metadata": {
      "needs_background": "light"
     },
     "output_type": "display_data"
    }
   ],
   "source": [
    "df.plot(kind='bar',title='Bar Plot')"
   ]
  },
  {
   "cell_type": "code",
   "execution_count": null,
   "metadata": {},
   "outputs": [],
   "source": []
  }
 ],
 "metadata": {
  "kernelspec": {
   "display_name": "Python 3",
   "language": "python",
   "name": "python3"
  },
  "language_info": {
   "codemirror_mode": {
    "name": "ipython",
    "version": 3
   },
   "file_extension": ".py",
   "mimetype": "text/x-python",
   "name": "python",
   "nbconvert_exporter": "python",
   "pygments_lexer": "ipython3",
   "version": "3.8.3"
  }
 },
 "nbformat": 4,
 "nbformat_minor": 4
}
